{
 "cells": [
  {
   "cell_type": "code",
   "execution_count": 1,
   "metadata": {
    "hide_input": true,
    "init_cell": true,
    "slideshow": {
     "slide_type": "skip"
    }
   },
   "outputs": [
    {
     "data": {
      "text/html": [
       "\n",
       "    <!-- Hide output indicators (e.g. `Out [4]:`) -->\n",
       "    <style>\n",
       "        .output_prompt{opacity:0;}\n",
       "    </style>\n",
       "    \n",
       "    "
      ],
      "text/plain": [
       "<IPython.core.display.HTML object>"
      ]
     },
     "metadata": {},
     "output_type": "display_data"
    }
   ],
   "source": [
    "import sys\n",
    "sys.path.append('../')\n",
    "import hourofci\n",
    "\n",
    "from IPython.display import Javascript\n",
    "\n",
    "from IPython.display import HTML\n",
    "from IPython.display import display\n",
    "\n",
    "import nbformat \n",
    "import io\n",
    "\n",
    "tag = HTML('''\n",
    "    <!-- Hide output indicators (e.g. `Out [4]:`) -->\n",
    "    <style>\n",
    "        .output_prompt{opacity:0;}\n",
    "    </style>\n",
    "    \n",
    "    ''')\n",
    "display(tag)"
   ]
  },
  {
   "cell_type": "code",
   "execution_count": 2,
   "metadata": {
    "editable": false,
    "hide_input": true,
    "init_cell": true,
    "slideshow": {
     "slide_type": "skip"
    }
   },
   "outputs": [
    {
     "data": {
      "application/javascript": [
       "\n",
       "IPython.notebook.kernel.execute(\"user_agent = \" + \"'\" + navigator.userAgent + \"'\");\n"
      ],
      "text/plain": [
       "<IPython.core.display.Javascript object>"
      ]
     },
     "execution_count": 2,
     "metadata": {},
     "output_type": "execute_result"
    }
   ],
   "source": [
    "# Retreive the user agent string and pass it to the hourofci submit button\n",
    "agent_js = \"\"\"\n",
    "IPython.notebook.kernel.execute(\"user_agent = \" + \"'\" + navigator.userAgent + \"'\");\n",
    "\"\"\"\n",
    "Javascript(agent_js)"
   ]
  },
  {
   "cell_type": "code",
   "execution_count": 3,
   "metadata": {
    "hide_input": true,
    "init_cell": true,
    "slideshow": {
     "slide_type": "skip"
    }
   },
   "outputs": [
    {
     "data": {
      "application/javascript": [
       "\n",
       "Jupyter.notebook.execute_cells([10]);\n",
       "Jupyter.notebook.execute_cells([19]);\n",
       "Jupyter.notebook.execute_cells([23]);\n",
       "Jupyter.notebook.execute_cells([27]);\n"
      ],
      "text/plain": [
       "<IPython.core.display.Javascript object>"
      ]
     },
     "execution_count": 3,
     "metadata": {},
     "output_type": "execute_result"
    }
   ],
   "source": [
    "execute_js = \"\"\"\n",
    "Jupyter.notebook.execute_cells([10]);\n",
    "Jupyter.notebook.execute_cells([19]);\n",
    "Jupyter.notebook.execute_cells([23]);\n",
    "Jupyter.notebook.execute_cells([27]);\n",
    "\"\"\"\n",
    "Javascript(execute_js)"
   ]
  },
  {
   "cell_type": "markdown",
   "metadata": {
    "slideshow": {
     "slide_type": "slide"
    }
   },
   "source": [
    "# Python Primer for Non-Programmers\n",
    "\n",
    "\n",
    "Cyberinfrastructure is powered by computers and advanced technologies. We use **computer programs** written in **programming languages** to communicate with these technologies. A popular programming language for scientists around the world is called **Python**. You will learn the basics of Python and start on the path to becoming a programming superstar!\n",
    "\n",
    "\n"
   ]
  },
  {
   "cell_type": "markdown",
   "metadata": {
    "slideshow": {
     "slide_type": "slide"
    }
   },
   "source": [
    "## A Python Statement\n",
    "\n",
    "This is a Python Statement.\n",
    "\n",
    "```python\n",
    "mystring = \"Hello World!\"\n",
    "```\n",
    "\n",
    "> **Statement**\n",
    ">\n",
    "> A statement is a single command that tells the computer to do something. \n",
    "\n"
   ]
  },
  {
   "cell_type": "markdown",
   "metadata": {
    "slideshow": {
     "slide_type": "slide"
    }
   },
   "source": [
    "## Statement Breakdown\n",
    "\n",
    "mystring is a Variable.\n",
    "\n",
    "```python\n",
    "mystring = \"Hello World!\"\n",
    "```\n",
    "\n",
    "> **Variable**\n",
    ">\n",
    "> Variables can hold values (think back to math class).  \n",
    "> They can be referred by a name such as x, name, or this_is_a_variable.\n"
   ]
  },
  {
   "cell_type": "markdown",
   "metadata": {
    "slideshow": {
     "slide_type": "slide"
    }
   },
   "source": [
    "## Statement Breakdown\n",
    "\n",
    "Assignment using =\n",
    "\n",
    "```python\n",
    "mystring = \"Hello World!\"\n",
    "```\n",
    "\n",
    "> **Assignment**\n",
    ">\n",
    "> The equals sign assigns the value:\n",
    ">\n",
    ">  **\"Hello World!\"**\n",
    ">  \n",
    "> to the variable:\n",
    "> \n",
    "> **mystring**"
   ]
  },
  {
   "cell_type": "markdown",
   "metadata": {
    "slideshow": {
     "slide_type": "slide"
    }
   },
   "source": [
    "## Statement Breakdown\n",
    "\n",
    "\"Hello World\" is a Value.\n",
    "\n",
    "```python\n",
    "mystring = \"Hello World!\"\n",
    "```\n",
    "\n",
    "> **Value**\n",
    "> \n",
    "> Variable values can be:\n",
    ">  \n",
    "> quoted strings such as \"hello\"\n",
    ">  \n",
    "> or\n",
    ">  \n",
    "> numbers such as 123 or 3.14\n",
    "\n"
   ]
  },
  {
   "cell_type": "markdown",
   "metadata": {
    "slideshow": {
     "slide_type": "slide"
    }
   },
   "source": [
    "## Let's try it! \n",
    "\n",
    "Move your mouse to the play button under the Python statement and click."
   ]
  },
  {
   "cell_type": "code",
   "execution_count": null,
   "metadata": {
    "slideshow": {
     "slide_type": "-"
    },
    "tags": [
     "Q1"
    ]
   },
   "outputs": [],
   "source": [
    "mystring = \"Hello World!\""
   ]
  },
  {
   "cell_type": "code",
   "execution_count": 4,
   "metadata": {
    "hide_input": true,
    "scrolled": true,
    "slideshow": {
     "slide_type": "-"
    }
   },
   "outputs": [
    {
     "data": {
      "application/vnd.jupyter.widget-view+json": {
       "model_id": "6f23168960614231a65cc39ef8c6c1bb",
       "version_major": 2,
       "version_minor": 0
      },
      "text/plain": [
       "Button(description='   Run', icon='step-forward', style=ButtonStyle())"
      ]
     },
     "metadata": {},
     "output_type": "display_data"
    },
    {
     "data": {
      "application/vnd.jupyter.widget-view+json": {
       "model_id": "ad48b9b325e745e886065149d7400a26",
       "version_major": 2,
       "version_minor": 0
      },
      "text/plain": [
       "Output()"
      ]
     },
     "metadata": {},
     "output_type": "display_data"
    }
   ],
   "source": [
    "# Cell that display the Run buton\n",
    "\n",
    "hourofci.RunBtn(user_agent,\"gateway\",\"gateway\",\"demo-Gateway-test2\",\"Q1\")"
   ]
  },
  {
   "cell_type": "markdown",
   "metadata": {
    "slideshow": {
     "slide_type": "fragment"
    }
   },
   "source": [
    "### Nothing?\n",
    "Well, not exactly."
   ]
  },
  {
   "cell_type": "markdown",
   "metadata": {
    "slideshow": {
     "slide_type": "slide"
    }
   },
   "source": [
    "## A foundational rule in computing\n",
    "\n",
    "> The computer does __exactly__ what you tell it to do!\n",
    "\n",
    "## A foundational challenge in computing\n",
    "\n",
    "> This isn't necessarily what you **want** it to do!\n"
   ]
  },
  {
   "cell_type": "markdown",
   "metadata": {
    "slideshow": {
     "slide_type": "slide"
    }
   },
   "source": [
    "## So what did we tell it to do?!\n",
    "\n",
    "Our code:\n",
    "\n",
    "```python\n",
    "mystring = \"Hello World!\"\n",
    "```\n",
    "\n",
    "Remember, the statement breakdown explanation. \n",
    "\n",
    "We assigned the value \"Hello World!\" to the variable mystring.\n",
    "\n",
    "That's it.\n"
   ]
  },
  {
   "cell_type": "markdown",
   "metadata": {
    "slideshow": {
     "slide_type": "slide"
    }
   },
   "source": [
    "## So let's make it do a bit more.\n",
    "\n",
    "If we add one more statement, we can see some results.\n",
    "\n",
    "```python\n",
    "mystring = \"Hello World!\"\n",
    "print(mystring)\n",
    "```"
   ]
  },
  {
   "cell_type": "markdown",
   "metadata": {
    "slideshow": {
     "slide_type": "slide"
    }
   },
   "source": [
    "## Statement Breakdown: Function Call\n",
    "\n",
    "print is a function call.\n",
    "\n",
    "```python\n",
    "print(mystring)\n",
    "```\n",
    "\n",
    "> **Function call**\n",
    "> \n",
    "> A function is a defined piece of Python code that can be called upon \n",
    "> such as a 'print' function that prints information to the screen.\n",
    "> Each function name is followed by parentheses.\n",
    ">\n",
    "> *function_name(arguments)*"
   ]
  },
  {
   "cell_type": "markdown",
   "metadata": {
    "slideshow": {
     "slide_type": "slide"
    }
   },
   "source": [
    "## Statement Breakdown: Function Call\n",
    "\n",
    "mystring is an argument.\n",
    "\n",
    "```python\n",
    "print(mystring)\n",
    "```\n",
    "\n",
    "> **Arguments**\n",
    "> \n",
    "> Arguments also known as parameters are passed into functions. \n",
    "> This argument is a variable, but strings and numbers can also be arguments.\n",
    ">\n",
    "> *(myvar, \"string 1\" , 2345, 3.14)*\n"
   ]
  },
  {
   "cell_type": "markdown",
   "metadata": {
    "slideshow": {
     "slide_type": "slide"
    }
   },
   "source": [
    "## Let's try it! \n",
    "\n",
    "Move your mouse to the play button under the Python statement and click."
   ]
  },
  {
   "cell_type": "code",
   "execution_count": null,
   "metadata": {
    "hide_input": false,
    "slideshow": {
     "slide_type": "-"
    },
    "tags": [
     "Q2"
    ]
   },
   "outputs": [],
   "source": [
    "mystring = \"Hello World!\"\n",
    "print(mystring)"
   ]
  },
  {
   "cell_type": "code",
   "execution_count": 5,
   "metadata": {
    "hide_input": true,
    "scrolled": true,
    "slideshow": {
     "slide_type": "-"
    }
   },
   "outputs": [
    {
     "data": {
      "application/vnd.jupyter.widget-view+json": {
       "model_id": "c75b60c249bd4130b4797bd7a4ca1149",
       "version_major": 2,
       "version_minor": 0
      },
      "text/plain": [
       "Button(description='   Run', icon='step-forward', style=ButtonStyle())"
      ]
     },
     "metadata": {},
     "output_type": "display_data"
    },
    {
     "data": {
      "application/vnd.jupyter.widget-view+json": {
       "model_id": "cb7cdee453564cfab9e217b67b47eb68",
       "version_major": 2,
       "version_minor": 0
      },
      "text/plain": [
       "Output()"
      ]
     },
     "metadata": {},
     "output_type": "display_data"
    },
    {
     "data": {
      "text/html": [
       "\n",
       "    <!-- Hide output indicators (e.g. `Out [4]:`) -->\n",
       "    <style>\n",
       "        .output_prompt{opacity:0;}\n",
       "    </style>\n",
       "    \n",
       "    "
      ],
      "text/plain": [
       "<IPython.core.display.HTML object>"
      ]
     },
     "metadata": {},
     "output_type": "display_data"
    }
   ],
   "source": [
    "# Cell that display the Run buton\n",
    "\n",
    "hourofci.RunBtn(user_agent,\"gateway\",\"gateway\",\"demo-Gateway-test2\",\"Q2\")\n",
    "\n",
    "display(tag)"
   ]
  },
  {
   "cell_type": "markdown",
   "metadata": {
    "slideshow": {
     "slide_type": "slide"
    }
   },
   "source": [
    "### Success!\n",
    "We told the computer to assign \"Hello World\" to mystring, and then print it to the screen."
   ]
  },
  {
   "cell_type": "markdown",
   "metadata": {
    "slideshow": {
     "slide_type": "slide"
    }
   },
   "source": [
    "# Your First Program\n",
    "\n",
    "The classic program that every programmer makes is a simple statement to the world.\n",
    "\n",
    "> Hello World!\n",
    "\n",
    "```python\n",
    "print(\"Hello World!\")\n",
    "```\n",
    "\n",
    "Below, is a code box. Type the Python code above into the code box below and click \"Run\""
   ]
  },
  {
   "cell_type": "code",
   "execution_count": null,
   "metadata": {
    "slideshow": {
     "slide_type": "-"
    },
    "tags": [
     "Q3"
    ]
   },
   "outputs": [],
   "source": [
    "print(\"Hello World!\")"
   ]
  },
  {
   "cell_type": "code",
   "execution_count": 6,
   "metadata": {
    "hide_input": true,
    "slideshow": {
     "slide_type": "-"
    }
   },
   "outputs": [
    {
     "data": {
      "application/vnd.jupyter.widget-view+json": {
       "model_id": "40cd93e78f384e49a2d71406604793ef",
       "version_major": 2,
       "version_minor": 0
      },
      "text/plain": [
       "Button(description='   Run', icon='step-forward', style=ButtonStyle())"
      ]
     },
     "metadata": {},
     "output_type": "display_data"
    },
    {
     "data": {
      "application/vnd.jupyter.widget-view+json": {
       "model_id": "63709ca97c7448b6a80ffc4dc2709d83",
       "version_major": 2,
       "version_minor": 0
      },
      "text/plain": [
       "Output()"
      ]
     },
     "metadata": {},
     "output_type": "display_data"
    }
   ],
   "source": [
    "# Cell that display the Run buton\n",
    "\n",
    "hourofci.RunBtn(user_agent,\"gateway\",\"gateway\",\"demo-Gateway-test2\",\"Q3\")"
   ]
  },
  {
   "cell_type": "markdown",
   "metadata": {
    "slideshow": {
     "slide_type": "slide"
    }
   },
   "source": [
    "# Congratulations!\n",
    "\n",
    "You are officially a programmer."
   ]
  },
  {
   "cell_type": "markdown",
   "metadata": {
    "slideshow": {
     "slide_type": "slide"
    }
   },
   "source": [
    "## You can modify your code to say something new.\n",
    "\n",
    "How about ... \n",
    "\n",
    "```python\n",
    "print(\"Hello World of Cyberinfrastructure, I am here!\")\n",
    "```"
   ]
  },
  {
   "cell_type": "code",
   "execution_count": null,
   "metadata": {
    "slideshow": {
     "slide_type": "-"
    },
    "tags": [
     "Q4"
    ]
   },
   "outputs": [],
   "source": [
    "print(\"Hello World of Cyberinfrastructure, I am here!\")"
   ]
  },
  {
   "cell_type": "code",
   "execution_count": 7,
   "metadata": {
    "hide_input": true,
    "slideshow": {
     "slide_type": "-"
    }
   },
   "outputs": [
    {
     "data": {
      "application/vnd.jupyter.widget-view+json": {
       "model_id": "e867ebfae2f8456b9b1f0b50ffab46ec",
       "version_major": 2,
       "version_minor": 0
      },
      "text/plain": [
       "Button(description='   Run', icon='step-forward', style=ButtonStyle())"
      ]
     },
     "metadata": {},
     "output_type": "display_data"
    },
    {
     "data": {
      "application/vnd.jupyter.widget-view+json": {
       "model_id": "c85a593f35b244d7927624f03bb0864c",
       "version_major": 2,
       "version_minor": 0
      },
      "text/plain": [
       "Output()"
      ]
     },
     "metadata": {},
     "output_type": "display_data"
    }
   ],
   "source": [
    "# Cell that display the Run buton\n",
    "\n",
    "hourofci.RunBtn(user_agent,\"gateway\",\"gateway\",\"demo-Gateway-test2\",\"Q4\")"
   ]
  },
  {
   "cell_type": "markdown",
   "metadata": {
    "slideshow": {
     "slide_type": "slide"
    }
   },
   "source": [
    "Now that you are a programmer, you can apply powerful geospatial modeling and analytics.\n",
    "\n",
    "<a href=\"Gateway-test3.ipynb\">Click here to move to the next section to learn more!</a>"
   ]
  }
 ],
 "metadata": {
  "celltoolbar": "Edit Metadata",
  "kernelspec": {
   "display_name": "Python 3",
   "language": "python",
   "name": "python3"
  },
  "language_info": {
   "codemirror_mode": {
    "name": "ipython",
    "version": 3
   },
   "file_extension": ".py",
   "mimetype": "text/x-python",
   "name": "python",
   "nbconvert_exporter": "python",
   "pygments_lexer": "ipython3",
   "version": "3.6.5"
  },
  "rise": {
   "auto_select": "none",
   "autolaunch": true
  },
  "toc": {
   "base_numbering": 1,
   "nav_menu": {},
   "number_sections": true,
   "sideBar": true,
   "skip_h1_title": false,
   "title_cell": "Table of Contents",
   "title_sidebar": "Contents",
   "toc_cell": false,
   "toc_position": {},
   "toc_section_display": true,
   "toc_window_display": false
  }
 },
 "nbformat": 4,
 "nbformat_minor": 2
}
