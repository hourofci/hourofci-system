{
 "cells": [
  {
   "cell_type": "markdown",
   "metadata": {},
   "source": [
    "## Connect to the database `hourofci`"
   ]
  },
  {
   "cell_type": "code",
   "execution_count": 12,
   "metadata": {},
   "outputs": [],
   "source": [
    "import psycopg2"
   ]
  },
  {
   "cell_type": "code",
   "execution_count": 22,
   "metadata": {},
   "outputs": [
    {
     "name": "stdout",
     "output_type": "stream",
     "text": [
      "{'user': 'yan00040', 'dbname': 'hourofci', 'host': '149.165.156.88', 'port': '5432', 'tty': '', 'options': '', 'sslmode': 'prefer', 'sslcompression': '0', 'krbsrvname': 'postgres', 'target_session_attrs': 'any'} \n",
      "\n"
     ]
    }
   ],
   "source": [
    "# Creates a connection to a database in Postgres (Local)\n",
    "logdb_connection = psycopg2.connect(\n",
    "                                    \n",
    "                                  # Master User for table (Not the same user in the HourofCI Script)\n",
    "                                  user = \"yan00040\", # TO-DO: change to \"admin\"\n",
    "                                  password = \"yanww321\", # TO-DO: change to \"adminpassword\"\n",
    "                                  \n",
    "                                  # Host for Database table creation\n",
    "                                  host = \"check.hourofci.org\",\n",
    "                                    \n",
    "                                  # Depending on Postgres, this could change. Usually 5432 or 5433.\n",
    "                                  port = \"5432\", \n",
    "                                \n",
    "                                  # Postgres database to create a table in and store information\n",
    "                                  database = \"hourofci\")\n",
    "\n",
    "# Needed for connection\n",
    "cursor = logdb_connection.cursor()\n",
    "\n",
    "# Print PostgreSQL Connection properties\n",
    "print (logdb_connection.get_dsn_parameters(),\"\\n\")"
   ]
  },
  {
   "cell_type": "markdown",
   "metadata": {},
   "source": [
    "## Create a table `loggingTable`"
   ]
  },
  {
   "cell_type": "code",
   "execution_count": 14,
   "metadata": {},
   "outputs": [],
   "source": [
    "# Table schema\n",
    "Table = \"\"\"CREATE TABLE loggingTable\n",
    "                (user_agent TEXT,\n",
    "                 date_log DATE,\n",
    "                 time_log TIME,\n",
    "                 lesson VARCHAR(35),\n",
    "                 lesson_level VARCHAR(10),\n",
    "                 question VARCHAR(3),\n",
    "                 answer TEXT\n",
    "                 );\"\"\""
   ]
  },
  {
   "cell_type": "code",
   "execution_count": 15,
   "metadata": {},
   "outputs": [
    {
     "name": "stdout",
     "output_type": "stream",
     "text": [
      "Table created successfully in PostgreSQL \n"
     ]
    }
   ],
   "source": [
    "# Execute CREATE TABLE command\n",
    "cursor.execute(Table)\n",
    "\n",
    "# Commit the action to the database\n",
    "logdb_connection.commit()\n",
    "\n",
    "print(\"Table created successfully in PostgreSQL \")"
   ]
  },
  {
   "cell_type": "markdown",
   "metadata": {},
   "source": [
    "## Create a function `logging` and grants"
   ]
  },
  {
   "cell_type": "code",
   "execution_count": 23,
   "metadata": {},
   "outputs": [],
   "source": [
    "# Function to avoid users knowing table names in postgres and make it a bit more obscure. \n",
    "# Use Query Tool in PgAdmin to quickly admin this. Connect to the database, hourofci, open, \n",
    "# click on schema, navigate to tables. Right click to get a query tool option in the menu. \n",
    "\n",
    "Function = \"\"\"\n",
    "CREATE FUNCTION logging(user_agent TEXT, date_log DATE, time_log TIME, lesson VARCHAR(35), lesson_level VARCHAR(10), question VARCHAR(3), answer TEXT) RETURNS VOID AS\n",
    "$$\n",
    "BEGIN\n",
    "\tINSERT INTO loggingTable (user_agent, date_log, time_log, lesson, lesson_level, question, answer) VALUES (user_agent, date_log, time_log, lesson, lesson_level, question, answer);\n",
    "END\n",
    "$$\n",
    "\tLANGUAGE 'plpgsql';\n",
    "\"\"\"\n",
    "\n",
    "Grant = \"\"\"\n",
    "GRANT CONNECT ON DATABASE hourofci TO hourofciuser;\n",
    "GRANT INSERT ON loggingTable TO hourofciuser;\n",
    "GRANT EXECUTE ON FUNCTION logging TO hourofciuser;\n",
    "\"\"\""
   ]
  },
  {
   "cell_type": "code",
   "execution_count": 24,
   "metadata": {},
   "outputs": [
    {
     "name": "stdout",
     "output_type": "stream",
     "text": [
      "Function and grants created successfully in PostgreSQL \n"
     ]
    }
   ],
   "source": [
    "# Execute CREATE TABLE command\n",
    "cursor.execute(Function)\n",
    "cursor.execute(Grant)\n",
    "\n",
    "# Commit the action to the database\n",
    "logdb_connection.commit()\n",
    "print(\"Function and grants created successfully in PostgreSQL \")\n",
    "\n",
    "# Close the cursor\n",
    "logdb_connection.close()"
   ]
  }
 ],
 "metadata": {
  "kernelspec": {
   "display_name": "Python 3",
   "language": "python",
   "name": "python3"
  },
  "language_info": {
   "codemirror_mode": {
    "name": "ipython",
    "version": 3
   },
   "file_extension": ".py",
   "mimetype": "text/x-python",
   "name": "python",
   "nbconvert_exporter": "python",
   "pygments_lexer": "ipython3",
   "version": "3.8.3"
  },
  "toc": {
   "base_numbering": 1,
   "nav_menu": {},
   "number_sections": true,
   "sideBar": true,
   "skip_h1_title": false,
   "title_cell": "Table of Contents",
   "title_sidebar": "Contents",
   "toc_cell": false,
   "toc_position": {},
   "toc_section_display": true,
   "toc_window_display": false
  }
 },
 "nbformat": 4,
 "nbformat_minor": 2
}
